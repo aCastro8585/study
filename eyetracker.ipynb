{
 "cells": [
  {
   "cell_type": "code",
   "execution_count": 100,
   "id": "d78caab2",
   "metadata": {},
   "outputs": [],
   "source": [
    "#The eyetracker data analysis is based in AOI as blocks as seen in the image below. \n",
    "#Blocks are mapped 1-1 with the flowchart counterpart for the analysis however LOC or Token based analysis is also possible\n",
    "#Some visual effort metrics are calculated below others can be derivated easily from the data"
   ]
  },
  {
   "cell_type": "code",
   "execution_count": 98,
   "id": "52276a8d",
   "metadata": {},
   "outputs": [
    {
     "data": {
      "text/html": [
       "<img src=\"concatlists_flowchart_aoi.png\"/>"
      ],
      "text/plain": [
       "<IPython.core.display.Image object>"
      ]
     },
     "execution_count": 98,
     "metadata": {},
     "output_type": "execute_result"
    }
   ],
   "source": [
    "from IPython.display import Image\n",
    "from IPython.core.display import HTML \n",
    "Image(url= \"concatlists_flowchart_aoi.png\")"
   ]
  },
  {
   "cell_type": "code",
   "execution_count": 1,
   "id": "2808b844",
   "metadata": {},
   "outputs": [],
   "source": [
    "import os\n",
    "import sys\n",
    "import pandas as pd\n",
    "import numpy as np\n",
    "from ast import literal_eval\n",
    "import I2MC\n",
    "import I2MC.plot\n",
    "import matplotlib.pyplot as plt\n",
    "import time "
   ]
  },
  {
   "cell_type": "code",
   "execution_count": 5,
   "id": "e4d585db",
   "metadata": {},
   "outputs": [],
   "source": [
    "opt = dict()\n",
    "# General variables for eye-tracking data\n",
    "# maximum value of horizontal resolution in pixels\n",
    "opt['xres'] = 1920.0\n",
    "opt['yres'] = 1080.0  # maximum value of vertical resolution in pixels\n",
    "# missing value for horizontal position in eye-tracking data (example data uses -xres). used throughout\n",
    "# internal_helpers as signal for data loss\n",
    "opt['missingx'] = -opt['xres']\n",
    "# missing value for vertical position in eye-tracking data (example data uses -yres). used throughout\n",
    "# internal_helpers as signal for data loss\n",
    "opt['missingy'] = -opt['yres']\n",
    "# sampling frequency of data (check that this value matches with values actually obtained from measurement!)\n",
    "opt['freq'] = 120.0\n",
    "\n",
    "# Variables for the calculation of visual angle\n",
    "# These values are used to calculate noise measures (RMS and BCEA) of\n",
    "# fixations. The may be left as is, but don't use the noise measures then.\n",
    "# If either or both are empty, the noise measures are provided in pixels\n",
    "# instead of degrees.\n",
    "# screen size in cm\n",
    "opt['scrSz'] = [55.0, 32.5]\n",
    "# distance to screen in cm.\n",
    "opt['disttoscreen'] = 60.0\n",
    "opt['downsampFilter'] = False"
   ]
  },
  {
   "cell_type": "code",
   "execution_count": 86,
   "id": "e779d63a",
   "metadata": {},
   "outputs": [
    {
     "name": "stdout",
     "output_type": "stream",
     "text": [
      "        time         L_X         L_Y     R_X     R_Y  LValidity  RValidity\n",
      "9977   0.000  988.751221  491.767230 -1920.0 -1080.0          1          1\n",
      "9978   8.376  988.794937  486.883410 -1920.0 -1080.0          1          1\n",
      "9979  16.628  989.431458  486.887755 -1920.0 -1080.0          1          1\n",
      "9980  24.987  994.514351  475.114928 -1920.0 -1080.0          1          1\n",
      "9981  33.326  996.031952  478.834240 -1920.0 -1080.0          1          1\n"
     ]
    }
   ],
   "source": [
    "os.chdir(\"C:\\\\Users\\\\andres\\\\Music\\\\b\\\\experiment\\\\analysis\")\n",
    "\n",
    "\n",
    "# Setup Dataframe for storing fixation data\n",
    "df_fixation = pd.DataFrame([], columns=[\"Participant\", \"Algorithm\", \"Behavioral\", \"StartTime\", \"EndTime\", \"Duration\", \"IsOutlier\", \"SkillScore\",\n",
    "                                        \"Fixation_startT\", \"Fixation_endT\",  \"Fixation_x\", \"Fixation_y\", \"Fixation_x_range\", \"Fixation_y_range\"])\n",
    "\n",
    "eye_tracking_file=\"sample_data.csv\"\n",
    "\n",
    "\n",
    "# read in eyetracking file\n",
    "df_eyetracking = pd.read_csv(eye_tracking_file)\n",
    "\n",
    "\n",
    "# selecting rows based on code snippet and routine \n",
    "snippet = ['concatlists_flowchart.png'] \n",
    "routine = ['image'] \n",
    "\n",
    "df_eyetracking = df_eyetracking.loc[df_eyetracking['SNIPPET'].isin(snippet)] \n",
    "df_eyetracking = df_eyetracking.loc[df_eyetracking['ROUTINE'].isin(routine)] \n",
    "\n",
    "# normalize the time regarding eyetracking to 0\n",
    "df_eyetracking[\"system_time_stamp\"] = df_eyetracking[\"system_time_stamp\"].astype(float)\n",
    "df_eyetracking[\"system_time_stamp\"] = df_eyetracking[\"system_time_stamp\"] - df_eyetracking[\"system_time_stamp\"].iloc[0]\n",
    "\n",
    "# drop unused columns\n",
    "df_eyetracking = df_eyetracking.drop(columns=[\"left_gaze_point_in_user_coordinate_system\",\n",
    "                                                  \"right_gaze_point_in_user_coordinate_system\",\n",
    "                                                  \"left_gaze_origin_in_user_coordinate_system\",\n",
    "                                                  \"right_gaze_origin_in_user_coordinate_system\",\n",
    "                                                  \"left_pupil_diameter\",\n",
    "                                                  \"right_pupil_diameter\",\"SNIPPET\",\"ROUTINE\"\n",
    "                                               ])\n",
    "\n",
    "# convert to none so python can process missing data\n",
    "df_eyetracking[\"left_gaze_point_on_display_area\"] = df_eyetracking[\"left_gaze_point_on_display_area\"].apply(lambda x: str(x).replace('nan', 'None'))\n",
    "df_eyetracking[\"right_gaze_point_on_display_area\"] = df_eyetracking[\"right_gaze_point_on_display_area\"].apply(lambda x: str(x).replace('nan', 'None'))\n",
    "\n",
    "\n",
    "def string_to_tuple_left(data):\n",
    "    data = literal_eval(str(data))\n",
    "    if data[0] is not None:\n",
    "        if data[0] < 0.48 :\n",
    "           data= (-1920, -1080) \n",
    "    return data\n",
    "\n",
    "def string_to_tuple_right(data):\n",
    "    data = literal_eval(str(data))\n",
    "    if data[0] is not None:\n",
    "        if data[0] > 0.48 :\n",
    "           data= (-1920, -1080) \n",
    "    return data\n",
    "\n",
    "# select left and right gaze data depending on left right side \n",
    "df_eyetracking[\"left_gaze_point_on_display_area\"] = df_eyetracking[\"left_gaze_point_on_display_area\"].apply(string_to_tuple_left)\n",
    "df_eyetracking[\"right_gaze_point_on_display_area\"] = df_eyetracking[\"right_gaze_point_on_display_area\"].apply(string_to_tuple_right)\n",
    "\n",
    "\n",
    "# convert eyetracking data to display coordinates\n",
    "df_eyetracking[\"l_display_x\"] = df_eyetracking[\"left_gaze_point_on_display_area\"].apply(lambda x: x[0] * opt[\"xres\"] if x[0] is not None else None)\n",
    "df_eyetracking[\"l_display_y\"] = df_eyetracking[\"left_gaze_point_on_display_area\"].apply(lambda x: x[1] * opt[\"yres\"] if x[1] is not None else None)\n",
    "df_eyetracking[\"r_display_x\"] = df_eyetracking[\"right_gaze_point_on_display_area\"].apply(lambda x: x[0] * opt[\"xres\"] if x[0] is not None else None)\n",
    "df_eyetracking[\"r_display_y\"] = df_eyetracking[\"right_gaze_point_on_display_area\"].apply(lambda x: x[1] * opt[\"yres\"] if x[1] is not None else None)\n",
    "\n",
    "\n",
    "# convert eyetracking data to I2MC valid flags\n",
    "df_eyetracking[\"l_valid\"] = df_eyetracking[\"left_gaze_point_validity\"].astype(int)\n",
    "df_eyetracking[\"r_valid\"] = df_eyetracking[\"right_gaze_point_validity\"].astype(int)\n",
    "\n",
    "# convert miss column to right integer used by I2MC\n",
    "df_eyetracking[\"l_miss_x\"] = df_eyetracking.apply(lambda row: row[\"l_display_x\"] < -opt[\"xres\"] or row[\"l_display_x\"] > 2 * opt[\"xres\"], axis=1)\n",
    "df_eyetracking[\"l_miss_y\"] = df_eyetracking.apply(lambda row: row[\"l_display_y\"] < -opt[\"yres\"] or row[\"l_display_y\"] > 2 * opt[\"yres\"], axis=1)\n",
    "df_eyetracking[\"r_miss_x\"] = df_eyetracking.apply(lambda row: row[\"r_display_x\"] < -opt[\"xres\"] or row[\"r_display_x\"] > 2 * opt[\"xres\"], axis=1)\n",
    "df_eyetracking[\"r_miss_y\"] = df_eyetracking.apply(lambda row: row[\"r_display_y\"] < -opt[\"yres\"] or row[\"r_display_y\"] > 2 * opt[\"yres\"], axis=1)\n",
    "\n",
    "df_eyetracking[\"l_miss\"] = df_eyetracking.apply(lambda row: row[\"l_miss_x\"] or row[\"l_miss_y\"] or not row[\"l_valid\"] >= 1, axis=1)\n",
    "df_eyetracking[\"r_miss\"] = df_eyetracking.apply(lambda row: row[\"r_miss_x\"] or row[\"r_miss_y\"] or not row[\"r_valid\"] >= 1, axis=1)\n",
    "\n",
    "# Set a default value for missing data\n",
    "df_eyetracking.loc[df_eyetracking[\"l_miss\"], \"l_display_x\"] = opt[\"missingx\"]\n",
    "df_eyetracking.loc[df_eyetracking[\"l_miss\"], \"l_display_y\"] = opt[\"missingy\"]\n",
    "df_eyetracking.loc[df_eyetracking[\"r_miss\"], \"r_display_x\"] = opt[\"missingx\"]\n",
    "df_eyetracking.loc[df_eyetracking[\"r_miss\"], \"r_display_y\"] = opt[\"missingy\"]\n",
    "\n",
    "\n",
    "\n",
    "# drop unused columns\n",
    "df_eyetracking = df_eyetracking.drop(columns=[\"l_miss_x\", \"l_miss_y\", \"r_miss_x\", \"r_miss_y\", \"l_miss\", \"r_miss\",\"left_gaze_point_on_display_area\",\"right_gaze_point_on_display_area\",\"left_gaze_point_validity\",\"right_gaze_point_validity\",\"timestamp\"])\n",
    "\n",
    "\n",
    "# Transform time to ms\n",
    "df_eyetracking[\"system_time_stamp\"] = df_eyetracking[\"system_time_stamp\"].astype(float) / 1000\n",
    "\n",
    "# rename columns to match I2MC format\n",
    "df_eyetracking.rename(columns={\"l_display_x\": \"L_X\",\n",
    "                               \"l_display_y\": \"L_Y\",\n",
    "                               \"r_display_x\": \"R_X\",\n",
    "                               \"r_display_y\": \"R_Y\",\n",
    "                               \"l_valid\" : \"LValidity\",\n",
    "                               \"r_valid\" : \"RValidity\",\n",
    "                               \"system_time_stamp\":\"time\"}, inplace=True)\n",
    "\n",
    "\n",
    "print(df_eyetracking.head())\n",
    "\n",
    "df_eyetracking.to_csv('parsed.csv', sep=',', index= False)"
   ]
  },
  {
   "cell_type": "code",
   "execution_count": 22,
   "id": "04aae382",
   "metadata": {},
   "outputs": [
    {
     "name": "stdout",
     "output_type": "stream",
     "text": [
      "    Running fixation classification...\n",
      "     cutoff  start  end    startT      endT      dur        xpos        ypos  \\\n",
      "0  1.916023      0   26     0.000   216.637  224.989  992.358971  489.446647   \n",
      "1  1.916023     32   41   266.604   341.626   83.327  613.121080  339.779642   \n",
      "2  1.916023     44  115   366.596   958.210  599.996  460.667095  288.340226   \n",
      "3  1.916023    118  145   983.241  1208.194  233.276  504.080486  294.250474   \n",
      "4  1.916023    150  179  1249.873  1491.490  249.979  545.414829  269.168188   \n",
      "\n",
      "   flankdataloss  fracinterped     RMSxy      BCEA  fixRangeX  fixRangeY  \n",
      "0            0.0      0.000000  0.218379  0.097261   0.289289   0.715608  \n",
      "1            0.0      0.000000  0.308504  0.444472   0.910058   0.497308  \n",
      "2            0.0      0.069444  0.500774  1.501498   2.129360   2.362383  \n",
      "3            0.0      0.035714  0.353020  0.295028   0.555824   1.214034  \n",
      "4            0.0      0.066667  0.331426  0.318592   0.840473   1.017618  \n"
     ]
    }
   ],
   "source": [
    " \n",
    "\n",
    "log_level=1\n",
    "\n",
    "if log_level>0:\n",
    "    print('    Running fixation classification...')\n",
    "try:\n",
    "    fix,_,_ = I2MC.I2MC(df_eyetracking,opt,log_level==2,logging_offset=\"      \")\n",
    "except Exception as e:\n",
    "    print('    Error in file {}: {}'.format(file_name, e))\n",
    "    \n",
    "    \n",
    "if not fix:\n",
    "    if log_level>0:\n",
    "        print('    Fixation classification did not succeed with file {}'.format(file_name))\n",
    "\n",
    "        \n",
    "        \n",
    "df_fixation_participant = pd.DataFrame(fix)        \n",
    "print(df_fixation_participant.head())\n",
    "df_fixation_participant.to_csv('fixations.csv', sep=',', index= False)\n"
   ]
  },
  {
   "cell_type": "code",
   "execution_count": 90,
   "id": "e4694ea9",
   "metadata": {},
   "outputs": [
    {
     "data": {
      "text/html": [
       "<img src=\"fixation_over_snippet.png\"/>"
      ],
      "text/plain": [
       "<IPython.core.display.Image object>"
      ]
     },
     "execution_count": 90,
     "metadata": {},
     "output_type": "execute_result"
    }
   ],
   "source": [
    "from IPython.display import Image\n",
    "from IPython.core.display import HTML \n",
    "Image(url= \"fixation_over_snippet.png\")"
   ]
  },
  {
   "cell_type": "code",
   "execution_count": 48,
   "id": "569c0576",
   "metadata": {},
   "outputs": [
    {
     "data": {
      "text/html": [
       "<div>\n",
       "<style scoped>\n",
       "    .dataframe tbody tr th:only-of-type {\n",
       "        vertical-align: middle;\n",
       "    }\n",
       "\n",
       "    .dataframe tbody tr th {\n",
       "        vertical-align: top;\n",
       "    }\n",
       "\n",
       "    .dataframe thead th {\n",
       "        text-align: right;\n",
       "    }\n",
       "</style>\n",
       "<table border=\"1\" class=\"dataframe\">\n",
       "  <thead>\n",
       "    <tr style=\"text-align: right;\">\n",
       "      <th></th>\n",
       "      <th>Algorithm</th>\n",
       "      <th>AOI</th>\n",
       "      <th>AOIIdx</th>\n",
       "      <th>BoundingBox</th>\n",
       "    </tr>\n",
       "  </thead>\n",
       "  <tbody>\n",
       "    <tr>\n",
       "      <th>0</th>\n",
       "      <td>concatlists_flowchart</td>\n",
       "      <td>method_signature_code</td>\n",
       "      <td>0</td>\n",
       "      <td>(421, 262, 800, 300)</td>\n",
       "    </tr>\n",
       "    <tr>\n",
       "      <th>1</th>\n",
       "      <td>concatlists_flowchart</td>\n",
       "      <td>inputs_code</td>\n",
       "      <td>1</td>\n",
       "      <td>(469, 302, 725, 369)</td>\n",
       "    </tr>\n",
       "    <tr>\n",
       "      <th>2</th>\n",
       "      <td>concatlists_flowchart</td>\n",
       "      <td>aux_vars_code</td>\n",
       "      <td>2</td>\n",
       "      <td>(467, 402, 830, 467)</td>\n",
       "    </tr>\n",
       "    <tr>\n",
       "      <th>3</th>\n",
       "      <td>concatlists_flowchart</td>\n",
       "      <td>for_head_code</td>\n",
       "      <td>3</td>\n",
       "      <td>(469, 494, 855, 533)</td>\n",
       "    </tr>\n",
       "    <tr>\n",
       "      <th>4</th>\n",
       "      <td>concatlists_flowchart</td>\n",
       "      <td>for_body_1_code</td>\n",
       "      <td>4</td>\n",
       "      <td>(512, 532, 730, 601)</td>\n",
       "    </tr>\n",
       "    <tr>\n",
       "      <th>5</th>\n",
       "      <td>concatlists_flowchart</td>\n",
       "      <td>for_body_2_code</td>\n",
       "      <td>5</td>\n",
       "      <td>(510, 633, 777, 699)</td>\n",
       "    </tr>\n",
       "    <tr>\n",
       "      <th>6</th>\n",
       "      <td>concatlists_flowchart</td>\n",
       "      <td>return_code</td>\n",
       "      <td>6</td>\n",
       "      <td>(467, 762, 600, 798)</td>\n",
       "    </tr>\n",
       "    <tr>\n",
       "      <th>7</th>\n",
       "      <td>concatlists_flowchart</td>\n",
       "      <td>start_flowchart</td>\n",
       "      <td>7</td>\n",
       "      <td>(1256, 198, 1342, 258)</td>\n",
       "    </tr>\n",
       "    <tr>\n",
       "      <th>8</th>\n",
       "      <td>concatlists_flowchart</td>\n",
       "      <td>inputs_flowchart</td>\n",
       "      <td>8</td>\n",
       "      <td>(1169, 279, 1435, 347)</td>\n",
       "    </tr>\n",
       "    <tr>\n",
       "      <th>9</th>\n",
       "      <td>concatlists_flowchart</td>\n",
       "      <td>aux_vars_flowchart</td>\n",
       "      <td>9</td>\n",
       "      <td>(1113, 380, 1486, 475)</td>\n",
       "    </tr>\n",
       "    <tr>\n",
       "      <th>10</th>\n",
       "      <td>concatlists_flowchart</td>\n",
       "      <td>for_head_flowchart</td>\n",
       "      <td>10</td>\n",
       "      <td>(1196, 501, 1402, 563)</td>\n",
       "    </tr>\n",
       "    <tr>\n",
       "      <th>11</th>\n",
       "      <td>concatlists_flowchart</td>\n",
       "      <td>for_body_1_flowchart</td>\n",
       "      <td>11</td>\n",
       "      <td>(1183, 599, 1415, 667)</td>\n",
       "    </tr>\n",
       "    <tr>\n",
       "      <th>12</th>\n",
       "      <td>concatlists_flowchart</td>\n",
       "      <td>for_body_2_flowchart</td>\n",
       "      <td>12</td>\n",
       "      <td>(1161, 698, 1437, 765)</td>\n",
       "    </tr>\n",
       "    <tr>\n",
       "      <th>13</th>\n",
       "      <td>concatlists_flowchart</td>\n",
       "      <td>for_counter_flowchart</td>\n",
       "      <td>13</td>\n",
       "      <td>(1265, 792, 1335, 831)</td>\n",
       "    </tr>\n",
       "    <tr>\n",
       "      <th>14</th>\n",
       "      <td>concatlists_flowchart</td>\n",
       "      <td>return_flowchart</td>\n",
       "      <td>14</td>\n",
       "      <td>(975, 605, 1115, 641)</td>\n",
       "    </tr>\n",
       "    <tr>\n",
       "      <th>15</th>\n",
       "      <td>concatlists_flowchart</td>\n",
       "      <td>end_flowchart</td>\n",
       "      <td>15</td>\n",
       "      <td>(1013, 673, 1076, 718)</td>\n",
       "    </tr>\n",
       "  </tbody>\n",
       "</table>\n",
       "</div>"
      ],
      "text/plain": [
       "                Algorithm                    AOI  AOIIdx  \\\n",
       "0   concatlists_flowchart  method_signature_code       0   \n",
       "1   concatlists_flowchart            inputs_code       1   \n",
       "2   concatlists_flowchart          aux_vars_code       2   \n",
       "3   concatlists_flowchart          for_head_code       3   \n",
       "4   concatlists_flowchart        for_body_1_code       4   \n",
       "5   concatlists_flowchart        for_body_2_code       5   \n",
       "6   concatlists_flowchart            return_code       6   \n",
       "7   concatlists_flowchart        start_flowchart       7   \n",
       "8   concatlists_flowchart       inputs_flowchart       8   \n",
       "9   concatlists_flowchart     aux_vars_flowchart       9   \n",
       "10  concatlists_flowchart     for_head_flowchart      10   \n",
       "11  concatlists_flowchart   for_body_1_flowchart      11   \n",
       "12  concatlists_flowchart   for_body_2_flowchart      12   \n",
       "13  concatlists_flowchart  for_counter_flowchart      13   \n",
       "14  concatlists_flowchart       return_flowchart      14   \n",
       "15  concatlists_flowchart          end_flowchart      15   \n",
       "\n",
       "               BoundingBox  \n",
       "0     (421, 262, 800, 300)  \n",
       "1     (469, 302, 725, 369)  \n",
       "2     (467, 402, 830, 467)  \n",
       "3     (469, 494, 855, 533)  \n",
       "4     (512, 532, 730, 601)  \n",
       "5     (510, 633, 777, 699)  \n",
       "6     (467, 762, 600, 798)  \n",
       "7   (1256, 198, 1342, 258)  \n",
       "8   (1169, 279, 1435, 347)  \n",
       "9   (1113, 380, 1486, 475)  \n",
       "10  (1196, 501, 1402, 563)  \n",
       "11  (1183, 599, 1415, 667)  \n",
       "12  (1161, 698, 1437, 765)  \n",
       "13  (1265, 792, 1335, 831)  \n",
       "14   (975, 605, 1115, 641)  \n",
       "15  (1013, 673, 1076, 718)  "
      ]
     },
     "execution_count": 48,
     "metadata": {},
     "output_type": "execute_result"
    }
   ],
   "source": [
    "# The AOIs where generated manually\n",
    "# There is a 1-1 mapping from AOIS in the code and in the flowchart\n",
    "\n",
    "os.chdir(\"C:\\\\Users\\\\andres\\\\Music\\\\b\\\\experiment\\\\analysis\")\n",
    "import utils.GenSnippetsLib as gsl\n",
    "\n",
    "df_aois = pd.read_csv('AOI.csv',sep=',')\n",
    "\n",
    "\n",
    "df_aois\n"
   ]
  },
  {
   "cell_type": "code",
   "execution_count": 91,
   "id": "d5ecb992",
   "metadata": {},
   "outputs": [
    {
     "data": {
      "text/html": [
       "<img src=\"concatlists_flowchart_aoi.png\"/>"
      ],
      "text/plain": [
       "<IPython.core.display.Image object>"
      ]
     },
     "execution_count": 91,
     "metadata": {},
     "output_type": "execute_result"
    }
   ],
   "source": [
    "from IPython.display import Image\n",
    "from IPython.core.display import HTML \n",
    "Image(url= \"concatlists_flowchart_aoi.png\")"
   ]
  },
  {
   "cell_type": "code",
   "execution_count": 50,
   "id": "56809706",
   "metadata": {},
   "outputs": [
    {
     "name": "stdout",
     "output_type": "stream",
     "text": [
      "               Algorithm  Participant FixationNumber  FixationDuration AOIIdx  \\\n",
      "0  concatlists_flowchart  participant              1            75.022      1   \n",
      "1  concatlists_flowchart  participant              2           591.614      0   \n",
      "2  concatlists_flowchart  participant              3           224.953      0   \n",
      "3  concatlists_flowchart  participant              4           241.617      0   \n",
      "4  concatlists_flowchart  participant              5           358.328      0   \n",
      "\n",
      "                 AOIName  \n",
      "0            inputs_code  \n",
      "1  method_signature_code  \n",
      "2  method_signature_code  \n",
      "3  method_signature_code  \n",
      "4  method_signature_code  \n"
     ]
    }
   ],
   "source": [
    "df_aoi_fixation_per_participant = pd.DataFrame([], columns=[\"Algorithm\", \"Participant\", \"FixationNumber\",\n",
    "                                                              \"FixationDuration\", \"AOIIdx\", \"AOIName\"])\n",
    "\n",
    "import math\n",
    "df_aois_per_algo = df_aois\n",
    "\n",
    "start_times = df_fixation_participant[\"startT\"].values\n",
    "end_times = df_fixation_participant[\"endT\"].values\n",
    "x_coordinates = df_fixation_participant[\"xpos\"].values\n",
    "y_coordinates = df_fixation_participant[\"ypos\"].values\n",
    "x_range = df_fixation_participant[\"fixRangeX\"].values\n",
    "y_range = df_fixation_participant[\"fixRangeY\"].values\n",
    "idx_values = range(len(start_times))\n",
    "\n",
    "for (fix_idx, start, end, x, y, x_range, y_range) in zip(idx_values, start_times, end_times, x_coordinates, y_coordinates, x_range, y_range):\n",
    "    low_x = int(float(x) - math.ceil(float(x_range)))\n",
    "    low_y = int(float(y) - math.ceil(float(y_range)))\n",
    "    high_x = int(float(x) + math.ceil(float(x_range)))\n",
    "    high_y = int(float(y) + math.ceil(float(y_range)))\n",
    "    possible_coordinates = [(x, y) for x in range(low_x, high_x + 1) for y in range(low_y, high_y + 1)]\n",
    "\n",
    "    for idx, row in df_aois_per_algo.iterrows():\n",
    "        aoi_idx = row[\"AOIIdx\"]\n",
    "        aoi_name = row[\"AOI\"]\n",
    "        bounding_box = literal_eval(row[\"BoundingBox\"])\n",
    "\n",
    "        for possible_x, possible_y in possible_coordinates:\n",
    "            if float(bounding_box[0]) <= possible_x <= float(bounding_box[2]) and float(bounding_box[1]) <= possible_y <= float(bounding_box[3]):\n",
    "                df_aoi_fixation_per_participant.loc[len(df_aoi_fixation_per_participant)] = [\"concatlists_flowchart\", \"participant\", fix_idx ,end - start, aoi_idx, aoi_name]\n",
    "                break\n",
    "print(df_aoi_fixation_per_participant.head())\n",
    "df_aoi_fixation_per_participant.to_csv('df_aoi_fixation_per_participant.csv', sep=',', index= False)"
   ]
  },
  {
   "cell_type": "code",
   "execution_count": 97,
   "id": "b3f6a729",
   "metadata": {},
   "outputs": [
    {
     "data": {
      "text/html": [
       "<img src=\"fix_over_aois.png\"/>"
      ],
      "text/plain": [
       "<IPython.core.display.Image object>"
      ]
     },
     "execution_count": 97,
     "metadata": {},
     "output_type": "execute_result"
    }
   ],
   "source": [
    "from IPython.display import Image\n",
    "from IPython.core.display import HTML \n",
    "Image(url= \"fix_over_aois.png\")"
   ]
  },
  {
   "cell_type": "code",
   "execution_count": 66,
   "id": "4978ede5",
   "metadata": {},
   "outputs": [
    {
     "name": "stdout",
     "output_type": "stream",
     "text": [
      "total fixations: 108\n",
      "fixations over flowchart: 48\n",
      "fixations over code: 60\n"
     ]
    }
   ],
   "source": [
    "#METRICS\n",
    "#Number of fixations in code and in flowchart\n",
    "df=df_aoi_fixation_per_participant.copy()\n",
    "\n",
    "count_total_fixations=len(df[\"FixationNumber\"])\n",
    "\n",
    "fixations_flowchart = df[df['AOIName'].str.endswith('flowchart')]\n",
    "fixations_code = df[df['AOIName'].str.endswith('code')]\n",
    "\n",
    "count_fixations_flowchart = len(fixations_flowchart)\n",
    "count_fixations_code = len (fixations_code)\n",
    "print(\"total fixations: \"+str(count_total_fixations))\n",
    "print(\"fixations over flowchart: \"+str(count_fixations_flowchart))\n",
    "print(\"fixations over code: \"+str(count_fixations_code))\n",
    "\n"
   ]
  },
  {
   "cell_type": "code",
   "execution_count": 69,
   "id": "890187e3",
   "metadata": {},
   "outputs": [
    {
     "name": "stdout",
     "output_type": "stream",
     "text": [
      "fixations in aux_vars_code: 13\n",
      "fixations in aux_vars_flowchart: 14\n",
      "fixations in end_flowchart: 1\n",
      "fixations in for_body_1_code: 9\n",
      "fixations in for_body_1_flowchart: 8\n",
      "fixations in for_body_2_code: 8\n",
      "fixations in for_body_2_flowchart: 9\n",
      "fixations in for_counter_flowchart: 1\n",
      "fixations in for_head_code: 8\n",
      "fixations in for_head_flowchart: 3\n",
      "fixations in inputs_code: 13\n",
      "fixations in inputs_flowchart: 9\n",
      "fixations in method_signature_code: 7\n",
      "fixations in return_code: 2\n",
      "fixations in return_flowchart: 2\n",
      "fixations in start_flowchart: 1\n"
     ]
    }
   ],
   "source": [
    "#Number of fixations in each AOI\n",
    "aoi_names= np.unique(df[\"AOIName\"])\n",
    "\n",
    "a=0\n",
    "for aoi_name in aoi_names:\n",
    "    df_aoi = df[df['AOIName']==aoi_name]\n",
    "    print(\"fixations in \"+aoi_name+\": \"+str(len(df_aoi)))\n",
    "\n",
    "    \n"
   ]
  },
  {
   "cell_type": "code",
   "execution_count": 75,
   "id": "15cd717f",
   "metadata": {},
   "outputs": [
    {
     "name": "stdout",
     "output_type": "stream",
     "text": [
      "total fixation time in flowchart (ms): 14515.480000000003\n",
      "total fixation time in code (ms): 20398.600999999995\n"
     ]
    }
   ],
   "source": [
    "#total fixation time in flowchart and code\n",
    "time_fixations_flowchart=fixations_flowchart['FixationDuration'].sum()\n",
    "time_fixations_code=fixations_code['FixationDuration'].sum()\n",
    "print(\"total fixation time in flowchart (ms): \"+str(time_fixations_flowchart))\n",
    "print(\"total fixation time in code (ms): \"+str(time_fixations_code))"
   ]
  },
  {
   "cell_type": "code",
   "execution_count": 77,
   "id": "60ce2311",
   "metadata": {},
   "outputs": [
    {
     "name": "stdout",
     "output_type": "stream",
     "text": [
      "fixation time in flowchart in aux_vars_code: 3691.6200000000035\n",
      "fixation time in flowchart in aux_vars_flowchart: 3266.374\n",
      "fixation time in flowchart in end_flowchart: 349.9389999999985\n",
      "fixation time in flowchart in for_body_1_code: 3333.126000000002\n",
      "fixation time in flowchart in for_body_1_flowchart: 2333.2040000000125\n",
      "fixation time in flowchart in for_body_2_code: 2857.9999999999927\n",
      "fixation time in flowchart in for_body_2_flowchart: 2758.1509999999907\n",
      "fixation time in flowchart in for_counter_flowchart: 449.9560000000056\n",
      "fixation time in flowchart in for_head_code: 2416.557999999999\n",
      "fixation time in flowchart in for_head_flowchart: 1033.2460000000028\n",
      "fixation time in flowchart in inputs_code: 4657.962\n",
      "fixation time in flowchart in inputs_flowchart: 3049.704999999998\n",
      "fixation time in flowchart in method_signature_code: 2408.0879999999993\n",
      "fixation time in flowchart in return_code: 1033.2469999999994\n",
      "fixation time in flowchart in return_flowchart: 849.9469999999965\n",
      "fixation time in flowchart in start_flowchart: 424.9579999999987\n"
     ]
    }
   ],
   "source": [
    "#total fixation ime in each aoi\n",
    "for aoi_name in aoi_names:\n",
    "    df_aoi = df[df['AOIName']==aoi_name]\n",
    "    print(\"fixation time in flowchart in \"+aoi_name+\": \"+str(df_aoi['FixationDuration'].sum()))\n"
   ]
  },
  {
   "cell_type": "code",
   "execution_count": 83,
   "id": "d32f7356",
   "metadata": {},
   "outputs": [
    {
     "name": "stdout",
     "output_type": "stream",
     "text": [
      "1\n"
     ]
    }
   ],
   "source": [
    "#transitions from code to flowchart or vice versa\n",
    "past=\"test_code\"\n",
    "num_transitions=0\n",
    "for index, row in df.iterrows():\n",
    "    if row['AOIName'].split(\"_\")[-1] != past.split(\"_\")[-1]:\n",
    "        num_transitions=num_transitions+1\n",
    "    past=row['AOIName']\n",
    "print(num_transitions)\n",
    "\n"
   ]
  },
  {
   "cell_type": "code",
   "execution_count": null,
   "id": "aaaceb04",
   "metadata": {},
   "outputs": [],
   "source": [
    "#transitions from related AOIS - for instance from \"for_block_code\" to \"for_block_flowchart\"\n"
   ]
  }
 ],
 "metadata": {
  "kernelspec": {
   "display_name": "Python 3",
   "language": "python",
   "name": "python3"
  },
  "language_info": {
   "codemirror_mode": {
    "name": "ipython",
    "version": 3
   },
   "file_extension": ".py",
   "mimetype": "text/x-python",
   "name": "python",
   "nbconvert_exporter": "python",
   "pygments_lexer": "ipython3",
   "version": "3.6.8"
  }
 },
 "nbformat": 4,
 "nbformat_minor": 5
}
